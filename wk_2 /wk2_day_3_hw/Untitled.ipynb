{
 "cells": [
  {
   "cell_type": "code",
   "execution_count": 10,
   "id": "d69e8d8c",
   "metadata": {},
   "outputs": [
    {
     "name": "stdout",
     "output_type": "stream",
     "text": [
      "200\n"
     ]
    }
   ],
   "source": [
    "import calculations\n",
    "\n",
    "# variables 'length' and 'width' defined\n",
    "length = 10  \n",
    "width = 20   \n",
    "\n",
    "area = calculations.square_footage(length, width)\n",
    "print(area)"
   ]
  },
  {
   "cell_type": "code",
   "execution_count": 12,
   "id": "b49e0a2a",
   "metadata": {},
   "outputs": [
    {
     "name": "stdout",
     "output_type": "stream",
     "text": [
      "enter the length of the house:60\n",
      "enter the width of the house:50\n",
      "enter the radius of the circle:40\n",
      "Square footage of the house: 3000.0\n",
      "Circumference of the circle: 251.3272\n"
     ]
    }
   ],
   "source": [
    "length = float(input('enter the length of the house:'))\n",
    "width = float(input('enter the width of the house:'))\n",
    "radius = float(input('enter the radius of the circle:'))\n",
    "\n",
    "#calculate and print results\n",
    "square_ft = calculations.square_footage(length, width)\n",
    "circumference = calculations.circle_circumference(radius)\n",
    "\n",
    "print(f\"Square footage of the house: {square_ft}\")\n",
    "print(f\"Circumference of the circle: {circumference}\")"
   ]
  },
  {
   "cell_type": "code",
   "execution_count": null,
   "id": "6f8847b7",
   "metadata": {},
   "outputs": [],
   "source": []
  }
 ],
 "metadata": {
  "kernelspec": {
   "display_name": "Python 3 (ipykernel)",
   "language": "python",
   "name": "python3"
  },
  "language_info": {
   "codemirror_mode": {
    "name": "ipython",
    "version": 3
   },
   "file_extension": ".py",
   "mimetype": "text/x-python",
   "name": "python",
   "nbconvert_exporter": "python",
   "pygments_lexer": "ipython3",
   "version": "3.11.5"
  }
 },
 "nbformat": 4,
 "nbformat_minor": 5
}
